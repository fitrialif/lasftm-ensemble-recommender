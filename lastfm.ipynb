{
 "cells": [
  {
   "cell_type": "markdown",
   "metadata": {},
   "source": [
    "# LastFM Recommender\n",
    "The aim of this exercies is to build an ensemble recommender for music artists, using data made available [here](http://mtg.upf.edu/static/datasets/last.fm/lastfm-dataset-360K.tar.gz).\n",
    "\n",
    "I'll follow the methods described in [Jeremy Howards video](https://www.youtube.com/watch?v=V2h3IOBDvrA&t=5761s).\n",
    "\n",
    "This data set is a single table with 350k users organised into the following rows:\n",
    "- UserID \n",
    "- ArtistID \n",
    "- ArtistName \n",
    "- PlayCount\n",
    "\n",
    "Not all of the artists have a valid ArtistID, so we will use the artist name as a unique id."
   ]
  },
  {
   "cell_type": "code",
   "execution_count": 3,
   "metadata": {},
   "outputs": [],
   "source": [
    "from theano.sandbox import cuda\n",
    "%matplotlib inline\n",
    "import utils; reload(utils)\n",
    "from utils import *\n",
    "from __future__ import division, print_function"
   ]
  },
  {
   "cell_type": "code",
   "execution_count": 4,
   "metadata": {
    "collapsed": true
   },
   "outputs": [],
   "source": [
    "path = 'data/lastfm-dataset-360K/'\n",
    "fulldata_file = 'usersha1-artmbid-artname-plays.tsv'\n",
    "data_file = 'fulldata.tsv'\n",
    "sample_file = 'sampledata.tsv'\n",
    "\n",
    "def read_fulldata_file():\n",
    "    return pd.read_csv(path + fulldata_file, \n",
    "                       sep='\\t',\n",
    "                       usecols=[0,2,3],\n",
    "                       names=['user', 'artist','plays'])\n",
    "\n",
    "def read_sample_file():\n",
    "    return pd.read_csv(path + sample_file,\n",
    "                       sep='\\t')\n",
    "\n",
    "# Create the sample dataset of 1000 users\n",
    "if not os.path.isfile(path + sample_file):\n",
    "    df = read_fulldata_file()\n",
    "    users_to_sample = df.user.sample(n=1000)\n",
    "    rows_to_sample = df[df.user.isin(users_to_sample)]\n",
    "    rows_to_sample.to_csv(path + sample_file,\n",
    "                          index=False,\n",
    "                          sep='\\t')"
   ]
  },
  {
   "cell_type": "code",
   "execution_count": 5,
   "metadata": {
    "collapsed": true
   },
   "outputs": [],
   "source": [
    "df = read_sample_file()\n",
    "# df = read_fulldata_file()"
   ]
  },
  {
   "cell_type": "markdown",
   "metadata": {},
   "source": [
    "First, we need to transform the data somewhat:\n",
    "- UserID and Artist name to continguous integers\n",
    "- Playcount value for each (user, artist) tuple into a normalized value representing how much the user likes that artist compared to other artists.\n",
    "\n",
    "We shall assign each (user, artist) tuple a value representing the fraction of all of that users plays that the artist represents. This should then leave the value normalized between 0 and 1."
   ]
  },
  {
   "cell_type": "code",
   "execution_count": 6,
   "metadata": {
    "collapsed": true
   },
   "outputs": [],
   "source": [
    "userid2ids = {o:i for i,o in enumerate(df.user.unique())}\n",
    "artistid2ids = {o:i for i,o in enumerate(df.artist.unique())}\n",
    "plays_per_user = df.groupby(['user'])['plays'].sum().to_dict()\n",
    "\n",
    "def normalize(row):\n",
    "    row['plays'] = row['plays'] / plays_per_user[row['user']]\n",
    "    row['user'] = userid2ids[row['user']]\n",
    "    row['artist'] = artistid2ids[row['artist']]\n",
    "    return row\n",
    "\n",
    "norm_df = df.apply(normalize, axis=1)"
   ]
  },
  {
   "cell_type": "markdown",
   "metadata": {},
   "source": [
    "Now we can decide on a number of latent factors and split it out into training and validation sets. We also create a few variables that we will need later."
   ]
  },
  {
   "cell_type": "code",
   "execution_count": 8,
   "metadata": {},
   "outputs": [
    {
     "data": {
      "text/plain": [
       "(1000, 15593)"
      ]
     },
     "execution_count": 8,
     "metadata": {},
     "output_type": "execute_result"
    }
   ],
   "source": [
    "n_factors = 40\n",
    "np.random.seed = 42\n",
    "msk = np.random.rand(len(norm_df)) < 0.8\n",
    "trn = norm_df[msk]\n",
    "val = norm_df[~msk]\n",
    "\n",
    "n_users = norm_df.user.nunique()\n",
    "n_artists = norm_df.artist.nunique()\n",
    "n_users, n_artists"
   ]
  },
  {
   "cell_type": "markdown",
   "metadata": {},
   "source": [
    "As per the original example, we'll do a quick cross tab table of the top artists and most prolific users to sanity check how we are doing so far."
   ]
  },
  {
   "cell_type": "code",
   "execution_count": 9,
   "metadata": {
    "scrolled": true
   },
   "outputs": [
    {
     "data": {
      "text/html": [
       "<div>\n",
       "<style>\n",
       "    .dataframe thead tr:only-child th {\n",
       "        text-align: right;\n",
       "    }\n",
       "\n",
       "    .dataframe thead th {\n",
       "        text-align: left;\n",
       "    }\n",
       "\n",
       "    .dataframe tbody tr th {\n",
       "        vertical-align: top;\n",
       "    }\n",
       "</style>\n",
       "<table border=\"1\" class=\"dataframe\">\n",
       "  <thead>\n",
       "    <tr style=\"text-align: right;\">\n",
       "      <th>artist</th>\n",
       "      <th>168</th>\n",
       "      <th>301</th>\n",
       "      <th>539</th>\n",
       "      <th>578</th>\n",
       "      <th>615</th>\n",
       "      <th>632</th>\n",
       "      <th>643</th>\n",
       "      <th>649</th>\n",
       "      <th>654</th>\n",
       "      <th>706</th>\n",
       "    </tr>\n",
       "    <tr>\n",
       "      <th>user</th>\n",
       "      <th></th>\n",
       "      <th></th>\n",
       "      <th></th>\n",
       "      <th></th>\n",
       "      <th></th>\n",
       "      <th></th>\n",
       "      <th></th>\n",
       "      <th></th>\n",
       "      <th></th>\n",
       "      <th></th>\n",
       "    </tr>\n",
       "  </thead>\n",
       "  <tbody>\n",
       "    <tr>\n",
       "      <th>14</th>\n",
       "      <td>0.010375</td>\n",
       "      <td>NaN</td>\n",
       "      <td>0.00457</td>\n",
       "      <td>0.029150</td>\n",
       "      <td>NaN</td>\n",
       "      <td>NaN</td>\n",
       "      <td>NaN</td>\n",
       "      <td>0.003335</td>\n",
       "      <td>0.003458</td>\n",
       "      <td>0.009387</td>\n",
       "    </tr>\n",
       "    <tr>\n",
       "      <th>244</th>\n",
       "      <td>0.007231</td>\n",
       "      <td>NaN</td>\n",
       "      <td>NaN</td>\n",
       "      <td>0.023077</td>\n",
       "      <td>NaN</td>\n",
       "      <td>NaN</td>\n",
       "      <td>NaN</td>\n",
       "      <td>NaN</td>\n",
       "      <td>NaN</td>\n",
       "      <td>NaN</td>\n",
       "    </tr>\n",
       "    <tr>\n",
       "      <th>268</th>\n",
       "      <td>NaN</td>\n",
       "      <td>NaN</td>\n",
       "      <td>NaN</td>\n",
       "      <td>NaN</td>\n",
       "      <td>NaN</td>\n",
       "      <td>NaN</td>\n",
       "      <td>0.005792</td>\n",
       "      <td>NaN</td>\n",
       "      <td>NaN</td>\n",
       "      <td>0.013514</td>\n",
       "    </tr>\n",
       "    <tr>\n",
       "      <th>493</th>\n",
       "      <td>0.023529</td>\n",
       "      <td>NaN</td>\n",
       "      <td>NaN</td>\n",
       "      <td>NaN</td>\n",
       "      <td>NaN</td>\n",
       "      <td>NaN</td>\n",
       "      <td>NaN</td>\n",
       "      <td>NaN</td>\n",
       "      <td>NaN</td>\n",
       "      <td>NaN</td>\n",
       "    </tr>\n",
       "    <tr>\n",
       "      <th>550</th>\n",
       "      <td>NaN</td>\n",
       "      <td>NaN</td>\n",
       "      <td>NaN</td>\n",
       "      <td>NaN</td>\n",
       "      <td>NaN</td>\n",
       "      <td>NaN</td>\n",
       "      <td>0.017322</td>\n",
       "      <td>0.003997</td>\n",
       "      <td>NaN</td>\n",
       "      <td>NaN</td>\n",
       "    </tr>\n",
       "    <tr>\n",
       "      <th>578</th>\n",
       "      <td>NaN</td>\n",
       "      <td>0.033956</td>\n",
       "      <td>NaN</td>\n",
       "      <td>NaN</td>\n",
       "      <td>NaN</td>\n",
       "      <td>NaN</td>\n",
       "      <td>NaN</td>\n",
       "      <td>NaN</td>\n",
       "      <td>NaN</td>\n",
       "      <td>NaN</td>\n",
       "    </tr>\n",
       "    <tr>\n",
       "      <th>733</th>\n",
       "      <td>NaN</td>\n",
       "      <td>NaN</td>\n",
       "      <td>NaN</td>\n",
       "      <td>NaN</td>\n",
       "      <td>NaN</td>\n",
       "      <td>NaN</td>\n",
       "      <td>NaN</td>\n",
       "      <td>0.009524</td>\n",
       "      <td>NaN</td>\n",
       "      <td>NaN</td>\n",
       "    </tr>\n",
       "    <tr>\n",
       "      <th>753</th>\n",
       "      <td>NaN</td>\n",
       "      <td>NaN</td>\n",
       "      <td>NaN</td>\n",
       "      <td>NaN</td>\n",
       "      <td>NaN</td>\n",
       "      <td>NaN</td>\n",
       "      <td>NaN</td>\n",
       "      <td>0.012701</td>\n",
       "      <td>NaN</td>\n",
       "      <td>NaN</td>\n",
       "    </tr>\n",
       "    <tr>\n",
       "      <th>816</th>\n",
       "      <td>NaN</td>\n",
       "      <td>NaN</td>\n",
       "      <td>NaN</td>\n",
       "      <td>0.056410</td>\n",
       "      <td>0.011111</td>\n",
       "      <td>0.012821</td>\n",
       "      <td>NaN</td>\n",
       "      <td>NaN</td>\n",
       "      <td>NaN</td>\n",
       "      <td>NaN</td>\n",
       "    </tr>\n",
       "  </tbody>\n",
       "</table>\n",
       "</div>"
      ],
      "text/plain": [
       "artist       168       301      539       578       615       632       643  \\\n",
       "user                                                                          \n",
       "14      0.010375       NaN  0.00457  0.029150       NaN       NaN       NaN   \n",
       "244     0.007231       NaN      NaN  0.023077       NaN       NaN       NaN   \n",
       "268          NaN       NaN      NaN       NaN       NaN       NaN  0.005792   \n",
       "493     0.023529       NaN      NaN       NaN       NaN       NaN       NaN   \n",
       "550          NaN       NaN      NaN       NaN       NaN       NaN  0.017322   \n",
       "578          NaN  0.033956      NaN       NaN       NaN       NaN       NaN   \n",
       "733          NaN       NaN      NaN       NaN       NaN       NaN       NaN   \n",
       "753          NaN       NaN      NaN       NaN       NaN       NaN       NaN   \n",
       "816          NaN       NaN      NaN  0.056410  0.011111  0.012821       NaN   \n",
       "\n",
       "artist       649       654       706  \n",
       "user                                  \n",
       "14      0.003335  0.003458  0.009387  \n",
       "244          NaN       NaN       NaN  \n",
       "268          NaN       NaN  0.013514  \n",
       "493          NaN       NaN       NaN  \n",
       "550     0.003997       NaN       NaN  \n",
       "578          NaN       NaN       NaN  \n",
       "733     0.009524       NaN       NaN  \n",
       "753     0.012701       NaN       NaN  \n",
       "816          NaN       NaN       NaN  "
      ]
     },
     "execution_count": 9,
     "metadata": {},
     "output_type": "execute_result"
    }
   ],
   "source": [
    "g_artists = norm_df.groupby('artist')['plays'].count()\n",
    "top_artists = g_artists.sort_values(ascending=False)[:15]\n",
    "g_users = norm_df.groupby('user')['artist'].count()\n",
    "top_users = g_users.sort_values(ascending=False)[:15]\n",
    "\n",
    "top = norm_df.join(top_users, rsuffix='_r', how='inner', on='user')\n",
    "top = top.join(top_artists, rsuffix='_r', how='inner', on='artist')\n",
    "pd.crosstab(top.user, top.artist, top.plays, aggfunc = np.sum)"
   ]
  },
  {
   "cell_type": "markdown",
   "metadata": {},
   "source": [
    "The resulting table is a lot more sparse than the equivilent table for movie titles. I'm guessing this is because there is a much larger number of distinct artists than there are movies compared to the overall size of the dataset."
   ]
  },
  {
   "cell_type": "markdown",
   "metadata": {},
   "source": [
    "# Dot product\n",
    "The most basic model as per the original example."
   ]
  },
  {
   "cell_type": "code",
   "execution_count": 10,
   "metadata": {
    "collapsed": true
   },
   "outputs": [],
   "source": [
    "user_in = Input(shape=(1,), dtype='int64', name='user_in')\n",
    "u = Embedding(n_users, n_factors, input_length=1, W_regularizer=l2(1e04))(user_in)\n",
    "artist_in = Input(shape=(1,), dtype='int64', name='artist_in')\n",
    "a = Embedding(n_artists, n_factors, input_length=1, W_regularizer=l2(1e-4))(artist_in)"
   ]
  },
  {
   "cell_type": "code",
   "execution_count": 11,
   "metadata": {
    "collapsed": true
   },
   "outputs": [],
   "source": [
    "x = merge([u, a], mode='dot')\n",
    "x = Flatten()(x)\n",
    "model = Model([user_in, artist_in], x)\n",
    "model.compile(Adam(0.001), loss='mse')"
   ]
  },
  {
   "cell_type": "code",
   "execution_count": 12,
   "metadata": {},
   "outputs": [
    {
     "name": "stdout",
     "output_type": "stream",
     "text": [
      "Train on 40352 samples, validate on 10404 samples\n",
      "Epoch 1/3\n",
      "40352/40352 [==============================] - 3s - loss: 7386.1777 - val_loss: 9.2522e-04\n",
      "Epoch 2/3\n",
      "40352/40352 [==============================] - 3s - loss: 8.2621e-04 - val_loss: 9.2522e-04\n",
      "Epoch 3/3\n",
      "40352/40352 [==============================] - 2s - loss: 0.0090 - val_loss: 0.0071\n"
     ]
    },
    {
     "data": {
      "text/plain": [
       "<keras.callbacks.History at 0x7f46198c0650>"
      ]
     },
     "execution_count": 12,
     "metadata": {},
     "output_type": "execute_result"
    }
   ],
   "source": [
    "model.fit([trn.user, trn.artist], \n",
    "          trn.plays, \n",
    "          batch_size=64, \n",
    "          nb_epoch=3, \n",
    "          validation_data=([val.user, val.artist], val.plays))"
   ]
  },
  {
   "cell_type": "code",
   "execution_count": null,
   "metadata": {},
   "outputs": [],
   "source": [
    "model.optimizer.lr = 0.001\n",
    "model.fit([trn.user, trn.artist], \n",
    "          trn.plays, \n",
    "          batch_size=64, \n",
    "          nb_epoch=6,\n",
    "          validation_data=([val.user, val.artist], val.plays))"
   ]
  },
  {
   "cell_type": "markdown",
   "metadata": {},
   "source": []
  }
 ],
 "metadata": {
  "kernelspec": {
   "display_name": "Python [conda root]",
   "language": "python",
   "name": "conda-root-py"
  },
  "language_info": {
   "codemirror_mode": {
    "name": "ipython",
    "version": 2
   },
   "file_extension": ".py",
   "mimetype": "text/x-python",
   "name": "python",
   "nbconvert_exporter": "python",
   "pygments_lexer": "ipython2",
   "version": "2.7.13"
  }
 },
 "nbformat": 4,
 "nbformat_minor": 2
}
